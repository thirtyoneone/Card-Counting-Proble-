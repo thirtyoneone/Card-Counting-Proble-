{
 "cells": [
  {
   "cell_type": "code",
   "execution_count": 1,
   "metadata": {},
   "outputs": [],
   "source": [
    "import numpy as np"
   ]
  },
  {
   "cell_type": "code",
   "execution_count": 2,
   "metadata": {},
   "outputs": [
    {
     "name": "stdout",
     "output_type": "stream",
     "text": [
      "[1, 1, 1, 1, 1, 1, 1, 1, 1, 1, 2, 2, 2, 2, 2, 2, 2, 2, 2, 2, 3, 3, 3, 3, 3, 3, 3, 3, 3, 3]\n"
     ]
    }
   ],
   "source": [
    "opp_deck = [1]\n",
    "for i in range(9):\n",
    "    opp_deck.append(1)\n",
    "for i in range(10):\n",
    "    opp_deck.append(2)\n",
    "for i in range(10):\n",
    "    opp_deck.append(3)\n",
    "print(opp_deck)"
   ]
  },
  {
   "cell_type": "code",
   "execution_count": 3,
   "metadata": {},
   "outputs": [],
   "source": [
    "def get_order():\n",
    "    order = np.random.choice(30, size = (30,), replace = False)\n",
    "    return order                         "
   ]
  },
  {
   "cell_type": "code",
   "execution_count": 4,
   "metadata": {},
   "outputs": [],
   "source": [
    "def update_score(score,m,o):\n",
    "    if m > o:\n",
    "        return score + 1\n",
    "    elif m == o:\n",
    "        return score\n",
    "    else:\n",
    "        return score - 1"
   ]
  },
  {
   "cell_type": "code",
   "execution_count": 12,
   "metadata": {},
   "outputs": [
    {
     "name": "stdout",
     "output_type": "stream",
     "text": [
      "747299\n"
     ]
    }
   ],
   "source": [
    "sample = [0]\n",
    "n = 500000\n",
    "for i in range(n):\n",
    "    #100 samples\n",
    "    order = get_order()\n",
    "    \n",
    "    score = 0\n",
    "    count = 30 * np.ones((3,1))\n",
    "    my_deck = 30 * np.ones((3,1))\n",
    "\n",
    "    #rounds in each sample\n",
    "    for j in range(30):\n",
    "        if(count[2] >= count[1] and count[1] >= count[0]):\n",
    "            if(my_deck[0] >= 1):\n",
    "                my_deck[0] -= 1\n",
    "                score = update_score(score, 1, opp_deck[order[j]])\n",
    "                count[opp_deck[order[j]] - 1] -= 1\n",
    "                continue\n",
    "            \n",
    "            elif(my_deck[1] >= 1):\n",
    "                my_deck[1] -= 1\n",
    "                score = update_score(score, 2, opp_deck[order[j]])\n",
    "                count[opp_deck[order[j]] - 1] -= 1\n",
    "                continue\n",
    "                \n",
    "            else:\n",
    "                my_deck[2] -= 1\n",
    "                score = update_score(score, 3, opp_deck[order[j]])\n",
    "                count[opp_deck[order[j]] - 1] -= 1\n",
    "                continue\n",
    "                \n",
    "        if(count[1] >= count[2] and count[1] >= count[0]):\n",
    "            if(my_deck[2] >= 1):\n",
    "                my_deck[2] -= 1\n",
    "                score = update_score(score, 3, opp_deck[order[j]])\n",
    "                count[opp_deck[order[j]] - 1] -= 1\n",
    "                continue\n",
    "                \n",
    "            elif(my_deck[1] >= 1):\n",
    "                my_deck[1] -= 1\n",
    "                score = update_score(score, 2, opp_deck[order[j]])\n",
    "                count[opp_deck[order[j]] - 1] -= 1\n",
    "                continue\n",
    "                \n",
    "            else:\n",
    "                my_deck[0] -= 1\n",
    "                score = update_score(score, 1, opp_deck[order[j]])\n",
    "                count[opp_deck[order[j]] - 1] -= 1\n",
    "                continue\n",
    "                \n",
    "        if(count[0] >= count[1] and count[1] >= count[2]):\n",
    "            if(my_deck[1] >= 1):\n",
    "                my_deck[1] -= 1\n",
    "                score = update_score(score, 2, opp_deck[order[j]])\n",
    "                count[opp_deck[order[j]] - 1] -= 1\n",
    "                continue\n",
    "                \n",
    "            elif(my_deck[2] >= 1):\n",
    "                my_deck[2] -= 1\n",
    "                score = update_score(score, 3, opp_deck[order[j]])\n",
    "                count[opp_deck[order[j]] - 1] -= 1\n",
    "                continue\n",
    "                \n",
    "            else:\n",
    "                my_deck[0] -= 1\n",
    "                score = update_score(score, 1, opp_deck[order[j]])\n",
    "                count[opp_deck[order[j]] - 1] -= 1\n",
    "                continue\n",
    "        \n",
    "    sample.append(score)\n",
    "print(sum(sample))"
   ]
  },
  {
   "cell_type": "code",
   "execution_count": 13,
   "metadata": {},
   "outputs": [
    {
     "name": "stdout",
     "output_type": "stream",
     "text": [
      "1.494598\n"
     ]
    }
   ],
   "source": [
    "print(sum(sample)/n)"
   ]
  },
  {
   "cell_type": "code",
   "execution_count": 18,
   "metadata": {},
   "outputs": [
    {
     "name": "stdout",
     "output_type": "stream",
     "text": [
      "0.34152\n"
     ]
    }
   ],
   "source": [
    "print(np.sum(np.array(sample) > 0)/n)"
   ]
  },
  {
   "cell_type": "code",
   "execution_count": null,
   "metadata": {},
   "outputs": [],
   "source": []
  }
 ],
 "metadata": {
  "kernelspec": {
   "display_name": "Python 3",
   "language": "python",
   "name": "python3"
  },
  "language_info": {
   "codemirror_mode": {
    "name": "ipython",
    "version": 3
   },
   "file_extension": ".py",
   "mimetype": "text/x-python",
   "name": "python",
   "nbconvert_exporter": "python",
   "pygments_lexer": "ipython3",
   "version": "3.7.0"
  }
 },
 "nbformat": 4,
 "nbformat_minor": 4
}
