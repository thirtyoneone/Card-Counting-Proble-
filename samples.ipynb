{
 "cells": [
  {
   "cell_type": "code",
   "execution_count": 43,
   "metadata": {},
   "outputs": [],
   "source": [
    "import numpy as np"
   ]
  },
  {
   "cell_type": "code",
   "execution_count": 44,
   "metadata": {},
   "outputs": [
    {
     "name": "stdout",
     "output_type": "stream",
     "text": [
      "[1, 1, 1, 1, 1, 1, 1, 1, 1, 1, 2, 2, 2, 2, 2, 2, 2, 2, 2, 2, 3, 3, 3, 3, 3, 3, 3, 3, 3, 3]\n"
     ]
    }
   ],
   "source": [
    "opp_deck = [1]\n",
    "for i in range(9):\n",
    "    opp_deck.append(1)\n",
    "for i in range(10):\n",
    "    opp_deck.append(2)\n",
    "for i in range(10):\n",
    "    opp_deck.append(3)\n",
    "print(opp_deck)"
   ]
  },
  {
   "cell_type": "code",
   "execution_count": 53,
   "metadata": {},
   "outputs": [],
   "source": [
    "def get_order():\n",
    "    order = np.random.choice(30, size = (30,), replace = False)\n",
    "    return order                         "
   ]
  },
  {
   "cell_type": "code",
   "execution_count": 38,
   "metadata": {},
   "outputs": [],
   "source": [
    "def update_score(score,m,o):\n",
    "    if m > o:\n",
    "        return score + 1\n",
    "    elif m == o:\n",
    "        return score\n",
    "    else:\n",
    "        return score - 1"
   ]
  },
  {
   "cell_type": "code",
   "execution_count": 93,
   "metadata": {},
   "outputs": [
    {
     "name": "stdout",
     "output_type": "stream",
     "text": [
      "384\n"
     ]
    }
   ],
   "source": [
    "sample = [0]\n",
    "for i in range(10000):\n",
    "    #100 samples\n",
    "    order = get_order()\n",
    "    \n",
    "    score = 0\n",
    "    count = 30 * np.ones((3,1))\n",
    "    my_deck = 30 * np.ones((3,1))\n",
    "\n",
    "    #rounds in each sample\n",
    "    for j in range(30):\n",
    "        if(count[1] >= count[2] and count[1] >= count[0]):\n",
    "            if(my_deck[1] >= 1):\n",
    "                my_deck[1] -= 1\n",
    "                score = update_score(score, 2, opp_deck[order[j]])\n",
    "                count[opp_deck[order[j]] - 1] -= 1\n",
    "                continue\n",
    "                \n",
    "            elif(my_deck[0] >= 1):\n",
    "                my_deck[0] -= 1\n",
    "                score = update_score(score, 1, opp_deck[order[j]])\n",
    "                count[opp_deck[order[j]] - 1] -= 1\n",
    "                continue\n",
    "                \n",
    "            else:\n",
    "                my_deck[2] -= 1\n",
    "                score = update_score(score, 3, opp_deck[order[j]])\n",
    "                count[opp_deck[order[j]] - 1] -= 1\n",
    "                continue\n",
    "            \n",
    "        if(count[2] >= count[1] and count[1] >= count[0]):\n",
    "            if(my_deck[0] >= 1):\n",
    "                my_deck[0] -= 1\n",
    "                score = update_score(score, 1, opp_deck[order[j]])\n",
    "                count[opp_deck[order[j]] - 1] -= 1\n",
    "                continue\n",
    "            \n",
    "            elif(my_deck[1] >= 1):\n",
    "                my_deck[1] -= 1\n",
    "                score = update_score(score, 2, opp_deck[order[j]])\n",
    "                count[opp_deck[order[j]] - 1] -= 1\n",
    "                continue\n",
    "                \n",
    "            else:\n",
    "                my_deck[2] -= 1\n",
    "                score = update_score(score, 3, opp_deck[order[j]])\n",
    "                count[opp_deck[order[j]] - 1] -= 1\n",
    "                continue\n",
    "                \n",
    "        if(count[0] >= count[1] and count[1] >= count[2]):\n",
    "            if(my_deck[2] >= 1):\n",
    "                my_deck[2] -= 1\n",
    "                score = update_score(score, 3, opp_deck[order[j]])\n",
    "                count[opp_deck[order[j]] - 1] -= 1\n",
    "                continue\n",
    "                \n",
    "            elif(my_deck[1] >= 1):\n",
    "                my_deck[1] -= 1\n",
    "                score = update_score(score, 2, opp_deck[order[j]])\n",
    "                count[opp_deck[order[j]] - 1] -= 1\n",
    "                continue\n",
    "                \n",
    "            else:\n",
    "                my_deck[1] -= 1\n",
    "                score = update_score(score, 1, opp_deck[order[j]])\n",
    "                count[opp_deck[order[j]] - 1] -= 1\n",
    "                continue\n",
    "        \n",
    "    sample.append(score)\n",
    "print(sum(sample))"
   ]
  },
  {
   "cell_type": "code",
   "execution_count": null,
   "metadata": {},
   "outputs": [],
   "source": []
  },
  {
   "cell_type": "code",
   "execution_count": null,
   "metadata": {},
   "outputs": [],
   "source": []
  }
 ],
 "metadata": {
  "kernelspec": {
   "display_name": "Python 3",
   "language": "python",
   "name": "python3"
  }
 },
 "nbformat": 4,
 "nbformat_minor": 4
}
